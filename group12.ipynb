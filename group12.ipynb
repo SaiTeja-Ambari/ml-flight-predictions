{
 "cells": [
  {
   "cell_type": "code",
   "execution_count": 10,
   "id": "9a7bc4fe",
   "metadata": {},
   "outputs": [],
   "source": [
    "import pandas as pd\n",
    "import numpy as np\n",
    "import matplotlib.pyplot as plt\n",
    "\n",
    "from sklearn.model_selection import train_test_split\n",
    "from sklearn.linear_model import LinearRegression\n",
    "from sklearn.linear_model import LogisticRegression\n",
    "from sklearn.linear_model import Ridge\n",
    "from sklearn.linear_model import Lasso\n",
    "from sklearn.ensemble import RandomForestRegressor\n",
    "from sklearn.preprocessing import StandardScaler\n",
    "\n",
    "pd.options.display.float_format = '{:,.2f}'.format\n",
    "\n",
    "# setup interactive notebook mode\n",
    "from IPython.core.interactiveshell import InteractiveShell\n",
    "InteractiveShell.ast_node_interactivity = \"all\"\n",
    "\n",
    "from IPython.display import display, HTML\n",
    "from datetime import datetime\n"
   ]
  },
  {
   "cell_type": "code",
   "execution_count": 11,
   "id": "db54f2ea",
   "metadata": {},
   "outputs": [
    {
     "data": {
      "text/html": [
       "        <script type=\"text/javascript\">\n",
       "        window.PlotlyConfig = {MathJaxConfig: 'local'};\n",
       "        if (window.MathJax && window.MathJax.Hub && window.MathJax.Hub.Config) {window.MathJax.Hub.Config({SVG: {font: \"STIX-Web\"}});}\n",
       "        if (typeof require !== 'undefined') {\n",
       "        require.undef(\"plotly\");\n",
       "        requirejs.config({\n",
       "            paths: {\n",
       "                'plotly': ['https://cdn.plot.ly/plotly-2.27.0.min']\n",
       "            }\n",
       "        });\n",
       "        require(['plotly'], function(Plotly) {\n",
       "            window._Plotly = Plotly;\n",
       "        });\n",
       "        }\n",
       "        </script>\n",
       "        "
      ]
     },
     "metadata": {},
     "output_type": "display_data"
    }
   ],
   "source": [
    "import plotly\n",
    "plotly.offline.init_notebook_mode(connected=True)\n",
    "from plotly.graph_objs import *\n",
    "from plotly import tools\n",
    "import plotly.graph_objects as go\n",
    "import seaborn as sns"
   ]
  },
  {
   "cell_type": "code",
   "execution_count": 12,
   "id": "f3d6459b",
   "metadata": {},
   "outputs": [
    {
     "name": "stderr",
     "output_type": "stream",
     "text": [
      "/var/folders/1r/26j1lw0x6xgg8lq3_h2b3nh80000gn/T/ipykernel_66956/1786706140.py:1: FutureWarning:\n",
      "\n",
      "The argument 'date_parser' is deprecated and will be removed in a future version. Please use 'date_format' instead, or read your data in as 'object' dtype and then call 'to_datetime'.\n",
      "\n"
     ]
    },
    {
     "data": {
      "text/html": [
       "<div>\n",
       "<style scoped>\n",
       "    .dataframe tbody tr th:only-of-type {\n",
       "        vertical-align: middle;\n",
       "    }\n",
       "\n",
       "    .dataframe tbody tr th {\n",
       "        vertical-align: top;\n",
       "    }\n",
       "\n",
       "    .dataframe thead th {\n",
       "        text-align: right;\n",
       "    }\n",
       "</style>\n",
       "<table border=\"1\" class=\"dataframe\">\n",
       "  <thead>\n",
       "    <tr style=\"text-align: right;\">\n",
       "      <th></th>\n",
       "      <th>Unnamed: 0</th>\n",
       "      <th>index</th>\n",
       "      <th>Carrier Code</th>\n",
       "      <th>Date (MM/DD/YYYY)</th>\n",
       "      <th>Flight Number</th>\n",
       "      <th>Tail Number</th>\n",
       "      <th>Destination Airport</th>\n",
       "      <th>Scheduled departure time</th>\n",
       "      <th>Actual departure time</th>\n",
       "      <th>Scheduled elapsed time (Minutes)</th>\n",
       "      <th>Actual elapsed time (Minutes)</th>\n",
       "      <th>Departure delay (Minutes)</th>\n",
       "      <th>Wheels-off time</th>\n",
       "      <th>Taxi-Out time (Minutes)</th>\n",
       "      <th>Delay Carrier (Minutes)</th>\n",
       "      <th>Delay Weather (Minutes)</th>\n",
       "      <th>Delay National Aviation System (Minutes)</th>\n",
       "      <th>Delay Security (Minutes)</th>\n",
       "      <th>Delay Late Aircraft Arrival (Minutes)</th>\n",
       "      <th>Origin Airport</th>\n",
       "    </tr>\n",
       "  </thead>\n",
       "  <tbody>\n",
       "    <tr>\n",
       "      <th>0</th>\n",
       "      <td>0</td>\n",
       "      <td>53</td>\n",
       "      <td>G4</td>\n",
       "      <td>01/02/2020</td>\n",
       "      <td>1737</td>\n",
       "      <td>241NV</td>\n",
       "      <td>SYR</td>\n",
       "      <td>06:30</td>\n",
       "      <td>06:29</td>\n",
       "      <td>176</td>\n",
       "      <td>167</td>\n",
       "      <td>-1</td>\n",
       "      <td>06:42</td>\n",
       "      <td>13</td>\n",
       "      <td>0</td>\n",
       "      <td>0</td>\n",
       "      <td>0</td>\n",
       "      <td>0</td>\n",
       "      <td>0</td>\n",
       "      <td>FLL</td>\n",
       "    </tr>\n",
       "    <tr>\n",
       "      <th>1</th>\n",
       "      <td>1</td>\n",
       "      <td>102</td>\n",
       "      <td>G4</td>\n",
       "      <td>01/03/2019</td>\n",
       "      <td>1720</td>\n",
       "      <td>226NV</td>\n",
       "      <td>SYR</td>\n",
       "      <td>06:50</td>\n",
       "      <td>06:49</td>\n",
       "      <td>182</td>\n",
       "      <td>167</td>\n",
       "      <td>-1</td>\n",
       "      <td>07:01</td>\n",
       "      <td>12</td>\n",
       "      <td>0</td>\n",
       "      <td>0</td>\n",
       "      <td>0</td>\n",
       "      <td>0</td>\n",
       "      <td>0</td>\n",
       "      <td>FLL</td>\n",
       "    </tr>\n",
       "    <tr>\n",
       "      <th>2</th>\n",
       "      <td>2</td>\n",
       "      <td>121</td>\n",
       "      <td>G4</td>\n",
       "      <td>01/03/2021</td>\n",
       "      <td>1744</td>\n",
       "      <td>245NV</td>\n",
       "      <td>SYR</td>\n",
       "      <td>16:25</td>\n",
       "      <td>17:40</td>\n",
       "      <td>178</td>\n",
       "      <td>168</td>\n",
       "      <td>75</td>\n",
       "      <td>17:53</td>\n",
       "      <td>13</td>\n",
       "      <td>0</td>\n",
       "      <td>0</td>\n",
       "      <td>0</td>\n",
       "      <td>0</td>\n",
       "      <td>65</td>\n",
       "      <td>FLL</td>\n",
       "    </tr>\n",
       "    <tr>\n",
       "      <th>3</th>\n",
       "      <td>3</td>\n",
       "      <td>137</td>\n",
       "      <td>G4</td>\n",
       "      <td>01/03/2022</td>\n",
       "      <td>962</td>\n",
       "      <td>222NV</td>\n",
       "      <td>SYR</td>\n",
       "      <td>06:15</td>\n",
       "      <td>06:15</td>\n",
       "      <td>176</td>\n",
       "      <td>175</td>\n",
       "      <td>0</td>\n",
       "      <td>06:30</td>\n",
       "      <td>15</td>\n",
       "      <td>0</td>\n",
       "      <td>0</td>\n",
       "      <td>0</td>\n",
       "      <td>0</td>\n",
       "      <td>0</td>\n",
       "      <td>FLL</td>\n",
       "    </tr>\n",
       "    <tr>\n",
       "      <th>4</th>\n",
       "      <td>4</td>\n",
       "      <td>152</td>\n",
       "      <td>G4</td>\n",
       "      <td>01/03/2023</td>\n",
       "      <td>523</td>\n",
       "      <td>234NV</td>\n",
       "      <td>SYR</td>\n",
       "      <td>06:30</td>\n",
       "      <td>10:34</td>\n",
       "      <td>182</td>\n",
       "      <td>170</td>\n",
       "      <td>244</td>\n",
       "      <td>10:51</td>\n",
       "      <td>17</td>\n",
       "      <td>232</td>\n",
       "      <td>0</td>\n",
       "      <td>0</td>\n",
       "      <td>0</td>\n",
       "      <td>0</td>\n",
       "      <td>FLL</td>\n",
       "    </tr>\n",
       "  </tbody>\n",
       "</table>\n",
       "</div>"
      ],
      "text/plain": [
       "   Unnamed: 0  index Carrier Code Date (MM/DD/YYYY)  Flight Number  \\\n",
       "0           0     53           G4        01/02/2020           1737   \n",
       "1           1    102           G4        01/03/2019           1720   \n",
       "2           2    121           G4        01/03/2021           1744   \n",
       "3           3    137           G4        01/03/2022            962   \n",
       "4           4    152           G4        01/03/2023            523   \n",
       "\n",
       "  Tail Number Destination Airport Scheduled departure time  \\\n",
       "0       241NV                 SYR                    06:30   \n",
       "1       226NV                 SYR                    06:50   \n",
       "2       245NV                 SYR                    16:25   \n",
       "3       222NV                 SYR                    06:15   \n",
       "4       234NV                 SYR                    06:30   \n",
       "\n",
       "  Actual departure time  Scheduled elapsed time (Minutes)  \\\n",
       "0                 06:29                               176   \n",
       "1                 06:49                               182   \n",
       "2                 17:40                               178   \n",
       "3                 06:15                               176   \n",
       "4                 10:34                               182   \n",
       "\n",
       "   Actual elapsed time (Minutes)  Departure delay (Minutes) Wheels-off time  \\\n",
       "0                            167                         -1           06:42   \n",
       "1                            167                         -1           07:01   \n",
       "2                            168                         75           17:53   \n",
       "3                            175                          0           06:30   \n",
       "4                            170                        244           10:51   \n",
       "\n",
       "   Taxi-Out time (Minutes)  Delay Carrier (Minutes)  Delay Weather (Minutes)  \\\n",
       "0                       13                        0                        0   \n",
       "1                       12                        0                        0   \n",
       "2                       13                        0                        0   \n",
       "3                       15                        0                        0   \n",
       "4                       17                      232                        0   \n",
       "\n",
       "   Delay National Aviation System (Minutes)  Delay Security (Minutes)  \\\n",
       "0                                         0                         0   \n",
       "1                                         0                         0   \n",
       "2                                         0                         0   \n",
       "3                                         0                         0   \n",
       "4                                         0                         0   \n",
       "\n",
       "   Delay Late Aircraft Arrival (Minutes) Origin Airport  \n",
       "0                                      0            FLL  \n",
       "1                                      0            FLL  \n",
       "2                                     65            FLL  \n",
       "3                                      0            FLL  \n",
       "4                                      0            FLL  "
      ]
     },
     "execution_count": 12,
     "metadata": {},
     "output_type": "execute_result"
    }
   ],
   "source": [
    "arrivals_syr = pd.read_csv('departures_syr.csv', date_parser=lambda x: datetime.strptime(x, '%m/%d/%y'))\n",
    "arrivals_syr.head()"
   ]
  },
  {
   "cell_type": "code",
   "execution_count": 16,
   "id": "9d91d89a",
   "metadata": {},
   "outputs": [
    {
     "data": {
      "text/plain": [
       "69525"
      ]
     },
     "execution_count": 16,
     "metadata": {},
     "output_type": "execute_result"
    },
    {
     "data": {
      "text/plain": [
       "Index(['Carrier Code', 'Date (MM/DD/YYYY)', 'Flight Number', 'Tail Number',\n",
       "       'Origin Airport', 'Scheduled Arrival Time', 'Actual Arrival Time',\n",
       "       'Scheduled Elapsed Time (Minutes)', 'Actual Elapsed Time (Minutes)',\n",
       "       'Arrival Delay (Minutes)', 'Wheels-on Time', 'Taxi-In time (Minutes)',\n",
       "       'Delay Carrier (Minutes)', 'Delay Weather (Minutes)',\n",
       "       'Delay National Aviation System (Minutes)', 'Delay Security (Minutes)',\n",
       "       'Delay Late Aircraft Arrival (Minutes)'],\n",
       "      dtype='object')"
      ]
     },
     "execution_count": 16,
     "metadata": {},
     "output_type": "execute_result"
    },
    {
     "data": {
      "text/plain": [
       "Carrier Code                                 object\n",
       "Date (MM/DD/YYYY)                            object\n",
       "Flight Number                               float64\n",
       "Tail Number                                  object\n",
       "Origin Airport                               object\n",
       "Scheduled Arrival Time                       object\n",
       "Actual Arrival Time                          object\n",
       "Scheduled Elapsed Time (Minutes)            float64\n",
       "Actual Elapsed Time (Minutes)               float64\n",
       "Arrival Delay (Minutes)                     float64\n",
       "Wheels-on Time                               object\n",
       "Taxi-In time (Minutes)                      float64\n",
       "Delay Carrier (Minutes)                     float64\n",
       "Delay Weather (Minutes)                     float64\n",
       "Delay National Aviation System (Minutes)    float64\n",
       "Delay Security (Minutes)                    float64\n",
       "Delay Late Aircraft Arrival (Minutes)       float64\n",
       "dtype: object"
      ]
     },
     "execution_count": 16,
     "metadata": {},
     "output_type": "execute_result"
    }
   ],
   "source": [
    "len(arrivals_syr)\n",
    "arrivals_syr.columns\n",
    "arrivals_syr.dtypes"
   ]
  },
  {
   "cell_type": "code",
   "execution_count": 18,
   "id": "b09c7c5e",
   "metadata": {},
   "outputs": [],
   "source": [
    "arrivals_syr.drop(columns=['Tail Number', 'Scheduled Elapsed Time (Minutes)', 'Actual Elapsed Time (Minutes)', 'Wheels-on Time', 'Taxi-In time (Minutes)', 'Delay Carrier (Minutes)', 'Delay Weather (Minutes)', 'Delay National Aviation System (Minutes)', 'Delay Security (Minutes)', 'Delay Late Aircraft Arrival (Minutes)'], inplace=True)\n"
   ]
  },
  {
   "cell_type": "code",
   "execution_count": 19,
   "id": "0a64c998",
   "metadata": {},
   "outputs": [
    {
     "data": {
      "text/plain": [
       "69525"
      ]
     },
     "execution_count": 19,
     "metadata": {},
     "output_type": "execute_result"
    },
    {
     "data": {
      "text/plain": [
       "Index(['Carrier Code', 'Date (MM/DD/YYYY)', 'Flight Number', 'Origin Airport',\n",
       "       'Scheduled Arrival Time', 'Actual Arrival Time',\n",
       "       'Arrival Delay (Minutes)'],\n",
       "      dtype='object')"
      ]
     },
     "execution_count": 19,
     "metadata": {},
     "output_type": "execute_result"
    },
    {
     "data": {
      "text/plain": [
       "Carrier Code                object\n",
       "Date (MM/DD/YYYY)           object\n",
       "Flight Number              float64\n",
       "Origin Airport              object\n",
       "Scheduled Arrival Time      object\n",
       "Actual Arrival Time         object\n",
       "Arrival Delay (Minutes)    float64\n",
       "dtype: object"
      ]
     },
     "execution_count": 19,
     "metadata": {},
     "output_type": "execute_result"
    }
   ],
   "source": [
    "len(arrivals_syr)\n",
    "arrivals_syr.columns\n",
    "arrivals_syr.dtypes"
   ]
  },
  {
   "cell_type": "code",
   "execution_count": 14,
   "id": "a50b68f9",
   "metadata": {},
   "outputs": [
    {
     "name": "stderr",
     "output_type": "stream",
     "text": [
      "/var/folders/1r/26j1lw0x6xgg8lq3_h2b3nh80000gn/T/ipykernel_66956/1295931726.py:1: FutureWarning:\n",
      "\n",
      "The argument 'date_parser' is deprecated and will be removed in a future version. Please use 'date_format' instead, or read your data in as 'object' dtype and then call 'to_datetime'.\n",
      "\n"
     ]
    },
    {
     "data": {
      "text/html": [
       "<div>\n",
       "<style scoped>\n",
       "    .dataframe tbody tr th:only-of-type {\n",
       "        vertical-align: middle;\n",
       "    }\n",
       "\n",
       "    .dataframe tbody tr th {\n",
       "        vertical-align: top;\n",
       "    }\n",
       "\n",
       "    .dataframe thead th {\n",
       "        text-align: right;\n",
       "    }\n",
       "</style>\n",
       "<table border=\"1\" class=\"dataframe\">\n",
       "  <thead>\n",
       "    <tr style=\"text-align: right;\">\n",
       "      <th></th>\n",
       "      <th>Unnamed: 0</th>\n",
       "      <th>index</th>\n",
       "      <th>Carrier Code</th>\n",
       "      <th>Date (MM/DD/YYYY)</th>\n",
       "      <th>Flight Number</th>\n",
       "      <th>Tail Number</th>\n",
       "      <th>Destination Airport</th>\n",
       "      <th>Scheduled departure time</th>\n",
       "      <th>Actual departure time</th>\n",
       "      <th>Scheduled elapsed time (Minutes)</th>\n",
       "      <th>Actual elapsed time (Minutes)</th>\n",
       "      <th>Departure delay (Minutes)</th>\n",
       "      <th>Wheels-off time</th>\n",
       "      <th>Taxi-Out time (Minutes)</th>\n",
       "      <th>Delay Carrier (Minutes)</th>\n",
       "      <th>Delay Weather (Minutes)</th>\n",
       "      <th>Delay National Aviation System (Minutes)</th>\n",
       "      <th>Delay Security (Minutes)</th>\n",
       "      <th>Delay Late Aircraft Arrival (Minutes)</th>\n",
       "      <th>Origin Airport</th>\n",
       "    </tr>\n",
       "  </thead>\n",
       "  <tbody>\n",
       "    <tr>\n",
       "      <th>0</th>\n",
       "      <td>0</td>\n",
       "      <td>53</td>\n",
       "      <td>G4</td>\n",
       "      <td>01/02/2020</td>\n",
       "      <td>1737</td>\n",
       "      <td>241NV</td>\n",
       "      <td>SYR</td>\n",
       "      <td>06:30</td>\n",
       "      <td>06:29</td>\n",
       "      <td>176</td>\n",
       "      <td>167</td>\n",
       "      <td>-1</td>\n",
       "      <td>06:42</td>\n",
       "      <td>13</td>\n",
       "      <td>0</td>\n",
       "      <td>0</td>\n",
       "      <td>0</td>\n",
       "      <td>0</td>\n",
       "      <td>0</td>\n",
       "      <td>FLL</td>\n",
       "    </tr>\n",
       "    <tr>\n",
       "      <th>1</th>\n",
       "      <td>1</td>\n",
       "      <td>102</td>\n",
       "      <td>G4</td>\n",
       "      <td>01/03/2019</td>\n",
       "      <td>1720</td>\n",
       "      <td>226NV</td>\n",
       "      <td>SYR</td>\n",
       "      <td>06:50</td>\n",
       "      <td>06:49</td>\n",
       "      <td>182</td>\n",
       "      <td>167</td>\n",
       "      <td>-1</td>\n",
       "      <td>07:01</td>\n",
       "      <td>12</td>\n",
       "      <td>0</td>\n",
       "      <td>0</td>\n",
       "      <td>0</td>\n",
       "      <td>0</td>\n",
       "      <td>0</td>\n",
       "      <td>FLL</td>\n",
       "    </tr>\n",
       "    <tr>\n",
       "      <th>2</th>\n",
       "      <td>2</td>\n",
       "      <td>121</td>\n",
       "      <td>G4</td>\n",
       "      <td>01/03/2021</td>\n",
       "      <td>1744</td>\n",
       "      <td>245NV</td>\n",
       "      <td>SYR</td>\n",
       "      <td>16:25</td>\n",
       "      <td>17:40</td>\n",
       "      <td>178</td>\n",
       "      <td>168</td>\n",
       "      <td>75</td>\n",
       "      <td>17:53</td>\n",
       "      <td>13</td>\n",
       "      <td>0</td>\n",
       "      <td>0</td>\n",
       "      <td>0</td>\n",
       "      <td>0</td>\n",
       "      <td>65</td>\n",
       "      <td>FLL</td>\n",
       "    </tr>\n",
       "    <tr>\n",
       "      <th>3</th>\n",
       "      <td>3</td>\n",
       "      <td>137</td>\n",
       "      <td>G4</td>\n",
       "      <td>01/03/2022</td>\n",
       "      <td>962</td>\n",
       "      <td>222NV</td>\n",
       "      <td>SYR</td>\n",
       "      <td>06:15</td>\n",
       "      <td>06:15</td>\n",
       "      <td>176</td>\n",
       "      <td>175</td>\n",
       "      <td>0</td>\n",
       "      <td>06:30</td>\n",
       "      <td>15</td>\n",
       "      <td>0</td>\n",
       "      <td>0</td>\n",
       "      <td>0</td>\n",
       "      <td>0</td>\n",
       "      <td>0</td>\n",
       "      <td>FLL</td>\n",
       "    </tr>\n",
       "    <tr>\n",
       "      <th>4</th>\n",
       "      <td>4</td>\n",
       "      <td>152</td>\n",
       "      <td>G4</td>\n",
       "      <td>01/03/2023</td>\n",
       "      <td>523</td>\n",
       "      <td>234NV</td>\n",
       "      <td>SYR</td>\n",
       "      <td>06:30</td>\n",
       "      <td>10:34</td>\n",
       "      <td>182</td>\n",
       "      <td>170</td>\n",
       "      <td>244</td>\n",
       "      <td>10:51</td>\n",
       "      <td>17</td>\n",
       "      <td>232</td>\n",
       "      <td>0</td>\n",
       "      <td>0</td>\n",
       "      <td>0</td>\n",
       "      <td>0</td>\n",
       "      <td>FLL</td>\n",
       "    </tr>\n",
       "  </tbody>\n",
       "</table>\n",
       "</div>"
      ],
      "text/plain": [
       "   Unnamed: 0  index Carrier Code Date (MM/DD/YYYY)  Flight Number  \\\n",
       "0           0     53           G4        01/02/2020           1737   \n",
       "1           1    102           G4        01/03/2019           1720   \n",
       "2           2    121           G4        01/03/2021           1744   \n",
       "3           3    137           G4        01/03/2022            962   \n",
       "4           4    152           G4        01/03/2023            523   \n",
       "\n",
       "  Tail Number Destination Airport Scheduled departure time  \\\n",
       "0       241NV                 SYR                    06:30   \n",
       "1       226NV                 SYR                    06:50   \n",
       "2       245NV                 SYR                    16:25   \n",
       "3       222NV                 SYR                    06:15   \n",
       "4       234NV                 SYR                    06:30   \n",
       "\n",
       "  Actual departure time  Scheduled elapsed time (Minutes)  \\\n",
       "0                 06:29                               176   \n",
       "1                 06:49                               182   \n",
       "2                 17:40                               178   \n",
       "3                 06:15                               176   \n",
       "4                 10:34                               182   \n",
       "\n",
       "   Actual elapsed time (Minutes)  Departure delay (Minutes) Wheels-off time  \\\n",
       "0                            167                         -1           06:42   \n",
       "1                            167                         -1           07:01   \n",
       "2                            168                         75           17:53   \n",
       "3                            175                          0           06:30   \n",
       "4                            170                        244           10:51   \n",
       "\n",
       "   Taxi-Out time (Minutes)  Delay Carrier (Minutes)  Delay Weather (Minutes)  \\\n",
       "0                       13                        0                        0   \n",
       "1                       12                        0                        0   \n",
       "2                       13                        0                        0   \n",
       "3                       15                        0                        0   \n",
       "4                       17                      232                        0   \n",
       "\n",
       "   Delay National Aviation System (Minutes)  Delay Security (Minutes)  \\\n",
       "0                                         0                         0   \n",
       "1                                         0                         0   \n",
       "2                                         0                         0   \n",
       "3                                         0                         0   \n",
       "4                                         0                         0   \n",
       "\n",
       "   Delay Late Aircraft Arrival (Minutes) Origin Airport  \n",
       "0                                      0            FLL  \n",
       "1                                      0            FLL  \n",
       "2                                     65            FLL  \n",
       "3                                      0            FLL  \n",
       "4                                      0            FLL  "
      ]
     },
     "execution_count": 14,
     "metadata": {},
     "output_type": "execute_result"
    }
   ],
   "source": [
    "departures_syr = pd.read_csv('departures_syr.csv', date_parser=lambda x: datetime.strptime(x, '%m/%d/%y'))\n",
    "departures_syr.head()"
   ]
  },
  {
   "cell_type": "code",
   "execution_count": 17,
   "id": "2ed67573",
   "metadata": {},
   "outputs": [
    {
     "data": {
      "text/plain": [
       "56542"
      ]
     },
     "execution_count": 17,
     "metadata": {},
     "output_type": "execute_result"
    },
    {
     "data": {
      "text/plain": [
       "Index(['Unnamed: 0', 'index', 'Carrier Code', 'Date (MM/DD/YYYY)',\n",
       "       'Flight Number', 'Tail Number', 'Destination Airport',\n",
       "       'Scheduled departure time', 'Actual departure time',\n",
       "       'Scheduled elapsed time (Minutes)', 'Actual elapsed time (Minutes)',\n",
       "       'Departure delay (Minutes)', 'Wheels-off time',\n",
       "       'Taxi-Out time (Minutes)', 'Delay Carrier (Minutes)',\n",
       "       'Delay Weather (Minutes)', 'Delay National Aviation System (Minutes)',\n",
       "       'Delay Security (Minutes)', 'Delay Late Aircraft Arrival (Minutes)',\n",
       "       'Origin Airport'],\n",
       "      dtype='object')"
      ]
     },
     "execution_count": 17,
     "metadata": {},
     "output_type": "execute_result"
    },
    {
     "data": {
      "text/plain": [
       "Unnamed: 0                                   int64\n",
       "index                                        int64\n",
       "Carrier Code                                object\n",
       "Date (MM/DD/YYYY)                           object\n",
       "Flight Number                                int64\n",
       "Tail Number                                 object\n",
       "Destination Airport                         object\n",
       "Scheduled departure time                    object\n",
       "Actual departure time                       object\n",
       "Scheduled elapsed time (Minutes)             int64\n",
       "Actual elapsed time (Minutes)                int64\n",
       "Departure delay (Minutes)                    int64\n",
       "Wheels-off time                             object\n",
       "Taxi-Out time (Minutes)                      int64\n",
       "Delay Carrier (Minutes)                      int64\n",
       "Delay Weather (Minutes)                      int64\n",
       "Delay National Aviation System (Minutes)     int64\n",
       "Delay Security (Minutes)                     int64\n",
       "Delay Late Aircraft Arrival (Minutes)        int64\n",
       "Origin Airport                              object\n",
       "dtype: object"
      ]
     },
     "execution_count": 17,
     "metadata": {},
     "output_type": "execute_result"
    }
   ],
   "source": [
    "len(departures_syr)\n",
    "departures_syr.columns\n",
    "departures_syr.dtypes"
   ]
  },
  {
   "cell_type": "code",
   "execution_count": 21,
   "id": "af9f3f59",
   "metadata": {},
   "outputs": [],
   "source": [
    "departures_syr.drop(columns=['Tail Number', 'Scheduled Elapsed Time (Minutes)', 'Actual elapsed time (Minutes)', 'Wheels-off time', 'Taxi-Out time (Minutes)', 'Delay Carrier (Minutes)', 'Delay Weather (Minutes)', 'Delay National Aviation System (Minutes)', 'Delay Security (Minutes)', 'Delay Late Aircraft Arrival (Minutes)'], inplace=True, errors='ignore')\n"
   ]
  },
  {
   "cell_type": "code",
   "execution_count": 22,
   "id": "7dd0d9a5",
   "metadata": {},
   "outputs": [
    {
     "data": {
      "text/plain": [
       "56542"
      ]
     },
     "execution_count": 22,
     "metadata": {},
     "output_type": "execute_result"
    },
    {
     "data": {
      "text/plain": [
       "Index(['Unnamed: 0', 'index', 'Carrier Code', 'Date (MM/DD/YYYY)',\n",
       "       'Flight Number', 'Destination Airport', 'Scheduled departure time',\n",
       "       'Actual departure time', 'Scheduled elapsed time (Minutes)',\n",
       "       'Departure delay (Minutes)', 'Origin Airport'],\n",
       "      dtype='object')"
      ]
     },
     "execution_count": 22,
     "metadata": {},
     "output_type": "execute_result"
    },
    {
     "data": {
      "text/plain": [
       "Unnamed: 0                           int64\n",
       "index                                int64\n",
       "Carrier Code                        object\n",
       "Date (MM/DD/YYYY)                   object\n",
       "Flight Number                        int64\n",
       "Destination Airport                 object\n",
       "Scheduled departure time            object\n",
       "Actual departure time               object\n",
       "Scheduled elapsed time (Minutes)     int64\n",
       "Departure delay (Minutes)            int64\n",
       "Origin Airport                      object\n",
       "dtype: object"
      ]
     },
     "execution_count": 22,
     "metadata": {},
     "output_type": "execute_result"
    }
   ],
   "source": [
    "len(departures_syr)\n",
    "departures_syr.columns\n",
    "departures_syr.dtypes"
   ]
  },
  {
   "cell_type": "code",
   "execution_count": null,
   "id": "e7c9f9cb",
   "metadata": {},
   "outputs": [],
   "source": []
  }
 ],
 "metadata": {
  "kernelspec": {
   "display_name": "Python 3 (ipykernel)",
   "language": "python",
   "name": "python3"
  },
  "language_info": {
   "codemirror_mode": {
    "name": "ipython",
    "version": 3
   },
   "file_extension": ".py",
   "mimetype": "text/x-python",
   "name": "python",
   "nbconvert_exporter": "python",
   "pygments_lexer": "ipython3",
   "version": "3.11.2"
  }
 },
 "nbformat": 4,
 "nbformat_minor": 5
}
